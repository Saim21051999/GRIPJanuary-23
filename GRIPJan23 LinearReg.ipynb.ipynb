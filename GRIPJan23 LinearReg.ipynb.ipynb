{
  "cells": [
    {
      "cell_type": "markdown",
      "source": [
        "![image.png](data:image/png;base64,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)"
      ],
      "metadata": {
        "id": "-wlyKTF8g4fI"
      },
      "id": "-wlyKTF8g4fI"
    },
    {
      "cell_type": "markdown",
      "source": [
        "#GRIPJAN 23 - Task 2 - Prediction using Spervised ML - Linear Regression  Model\n",
        "#The Sparks Foundation\n",
        "#Data Science and Business Analytics Internship\n",
        "#Predict the percentage of an student based on the no. of study hours\n",
        "#Mohammad Saim Khan"
      ],
      "metadata": {
        "id": "Y_RS3QUNjAdv"
      },
      "id": "Y_RS3QUNjAdv"
    },
    {
      "cell_type": "markdown",
      "source": [
        "# 1. Loading required packages and importing the data"
      ],
      "metadata": {
        "id": "j0ZE8FgbgoSU"
      },
      "id": "j0ZE8FgbgoSU"
    },
    {
      "cell_type": "code",
      "execution_count": null,
      "id": "2e9546c0",
      "metadata": {
        "execution": {
          "iopub.execute_input": "2022-11-11T21:09:37.309621Z",
          "iopub.status.busy": "2022-11-11T21:09:37.308908Z",
          "iopub.status.idle": "2022-11-11T21:09:38.480143Z",
          "shell.execute_reply": "2022-11-11T21:09:38.479122Z"
        },
        "papermill": {
          "duration": 1.181555,
          "end_time": "2022-11-11T21:09:38.482978",
          "exception": false,
          "start_time": "2022-11-11T21:09:37.301423",
          "status": "completed"
        },
        "scrolled": true,
        "tags": [],
        "id": "2e9546c0"
      },
      "outputs": [],
      "source": [
        "import numpy as np\n",
        "import pandas as pd\n",
        "import matplotlib.pyplot as plt\n",
        "import seaborn as sns\n",
        "from sklearn.linear_model import SGDRegressor\n",
        "from sklearn.preprocessing import StandardScaler\n",
        "np.set_printoptions(precision=3)\n",
        "sns.set(rc={'figure.figsize':(11.7,8.27)})"
      ]
    },
    {
      "cell_type": "code",
      "execution_count": null,
      "id": "652be0e3",
      "metadata": {
        "execution": {
          "iopub.execute_input": "2022-11-11T21:09:38.497719Z",
          "iopub.status.busy": "2022-11-11T21:09:38.496380Z",
          "iopub.status.idle": "2022-11-11T21:09:38.523590Z",
          "shell.execute_reply": "2022-11-11T21:09:38.522429Z"
        },
        "papermill": {
          "duration": 0.036918,
          "end_time": "2022-11-11T21:09:38.526111",
          "exception": false,
          "start_time": "2022-11-11T21:09:38.489193",
          "status": "completed"
        },
        "tags": [],
        "id": "652be0e3"
      },
      "outputs": [],
      "source": [
        "df = pd.read_csv('../input/student-study-hours/score.csv')\n",
        "df['Scores'] = df['Scores'].astype('float64')"
      ]
    },
    {
      "cell_type": "markdown",
      "id": "8bcdd478",
      "metadata": {
        "papermill": {
          "duration": 0.005755,
          "end_time": "2022-11-11T21:09:38.537778",
          "exception": false,
          "start_time": "2022-11-11T21:09:38.532023",
          "status": "completed"
        },
        "tags": [],
        "id": "8bcdd478"
      },
      "source": [
        "# 2. Getting to know the dataset\n",
        "Here we will look at the dataset we have using different function provided by the pandas package"
      ]
    },
    {
      "cell_type": "code",
      "execution_count": null,
      "id": "4e22dab3",
      "metadata": {
        "execution": {
          "iopub.execute_input": "2022-11-11T21:09:38.551273Z",
          "iopub.status.busy": "2022-11-11T21:09:38.550883Z",
          "iopub.status.idle": "2022-11-11T21:09:38.567213Z",
          "shell.execute_reply": "2022-11-11T21:09:38.565696Z"
        },
        "papermill": {
          "duration": 0.025963,
          "end_time": "2022-11-11T21:09:38.569624",
          "exception": false,
          "start_time": "2022-11-11T21:09:38.543661",
          "status": "completed"
        },
        "tags": [],
        "id": "4e22dab3",
        "outputId": "73dce7ed-d617-454d-86b8-723dcda0a0bc"
      },
      "outputs": [
        {
          "data": {
            "text/html": [
              "<div>\n",
              "<style scoped>\n",
              "    .dataframe tbody tr th:only-of-type {\n",
              "        vertical-align: middle;\n",
              "    }\n",
              "\n",
              "    .dataframe tbody tr th {\n",
              "        vertical-align: top;\n",
              "    }\n",
              "\n",
              "    .dataframe thead th {\n",
              "        text-align: right;\n",
              "    }\n",
              "</style>\n",
              "<table border=\"1\" class=\"dataframe\">\n",
              "  <thead>\n",
              "    <tr style=\"text-align: right;\">\n",
              "      <th></th>\n",
              "      <th>Hours</th>\n",
              "      <th>Scores</th>\n",
              "    </tr>\n",
              "  </thead>\n",
              "  <tbody>\n",
              "    <tr>\n",
              "      <th>0</th>\n",
              "      <td>2.5</td>\n",
              "      <td>21.0</td>\n",
              "    </tr>\n",
              "    <tr>\n",
              "      <th>1</th>\n",
              "      <td>5.1</td>\n",
              "      <td>47.0</td>\n",
              "    </tr>\n",
              "    <tr>\n",
              "      <th>2</th>\n",
              "      <td>3.2</td>\n",
              "      <td>27.0</td>\n",
              "    </tr>\n",
              "    <tr>\n",
              "      <th>3</th>\n",
              "      <td>8.5</td>\n",
              "      <td>75.0</td>\n",
              "    </tr>\n",
              "    <tr>\n",
              "      <th>4</th>\n",
              "      <td>3.5</td>\n",
              "      <td>30.0</td>\n",
              "    </tr>\n",
              "  </tbody>\n",
              "</table>\n",
              "</div>"
            ],
            "text/plain": [
              "   Hours  Scores\n",
              "0    2.5    21.0\n",
              "1    5.1    47.0\n",
              "2    3.2    27.0\n",
              "3    8.5    75.0\n",
              "4    3.5    30.0"
            ]
          },
          "execution_count": 3,
          "metadata": {},
          "output_type": "execute_result"
        }
      ],
      "source": [
        "df.head()"
      ]
    },
    {
      "cell_type": "code",
      "execution_count": null,
      "id": "87b0690e",
      "metadata": {
        "execution": {
          "iopub.execute_input": "2022-11-11T21:09:38.583782Z",
          "iopub.status.busy": "2022-11-11T21:09:38.583377Z",
          "iopub.status.idle": "2022-11-11T21:09:38.604660Z",
          "shell.execute_reply": "2022-11-11T21:09:38.603198Z"
        },
        "papermill": {
          "duration": 0.031424,
          "end_time": "2022-11-11T21:09:38.607252",
          "exception": false,
          "start_time": "2022-11-11T21:09:38.575828",
          "status": "completed"
        },
        "tags": [],
        "id": "87b0690e",
        "outputId": "ffb2f986-8c9b-4f74-c9d4-60b0023eed36"
      },
      "outputs": [
        {
          "name": "stdout",
          "output_type": "stream",
          "text": [
            "<class 'pandas.core.frame.DataFrame'>\n",
            "RangeIndex: 25 entries, 0 to 24\n",
            "Data columns (total 2 columns):\n",
            " #   Column  Non-Null Count  Dtype  \n",
            "---  ------  --------------  -----  \n",
            " 0   Hours   25 non-null     float64\n",
            " 1   Scores  25 non-null     float64\n",
            "dtypes: float64(2)\n",
            "memory usage: 528.0 bytes\n"
          ]
        }
      ],
      "source": [
        "df.info()"
      ]
    },
    {
      "cell_type": "markdown",
      "id": "8ba1427e",
      "metadata": {
        "papermill": {
          "duration": 0.005837,
          "end_time": "2022-11-11T21:09:38.619595",
          "exception": false,
          "start_time": "2022-11-11T21:09:38.613758",
          "status": "completed"
        },
        "tags": [],
        "id": "8ba1427e"
      },
      "source": [
        "We have two fields: hours and scores. We will be using the hours feature as our predictor and the scores as our value."
      ]
    },
    {
      "cell_type": "code",
      "execution_count": null,
      "id": "4921ba55",
      "metadata": {
        "execution": {
          "iopub.execute_input": "2022-11-11T21:09:38.633310Z",
          "iopub.status.busy": "2022-11-11T21:09:38.632925Z",
          "iopub.status.idle": "2022-11-11T21:09:38.651988Z",
          "shell.execute_reply": "2022-11-11T21:09:38.650882Z"
        },
        "papermill": {
          "duration": 0.028913,
          "end_time": "2022-11-11T21:09:38.654380",
          "exception": false,
          "start_time": "2022-11-11T21:09:38.625467",
          "status": "completed"
        },
        "tags": [],
        "id": "4921ba55",
        "outputId": "6b2725ce-a659-41d4-c097-9fed822070de"
      },
      "outputs": [
        {
          "data": {
            "text/html": [
              "<div>\n",
              "<style scoped>\n",
              "    .dataframe tbody tr th:only-of-type {\n",
              "        vertical-align: middle;\n",
              "    }\n",
              "\n",
              "    .dataframe tbody tr th {\n",
              "        vertical-align: top;\n",
              "    }\n",
              "\n",
              "    .dataframe thead th {\n",
              "        text-align: right;\n",
              "    }\n",
              "</style>\n",
              "<table border=\"1\" class=\"dataframe\">\n",
              "  <thead>\n",
              "    <tr style=\"text-align: right;\">\n",
              "      <th></th>\n",
              "      <th>Hours</th>\n",
              "      <th>Scores</th>\n",
              "    </tr>\n",
              "  </thead>\n",
              "  <tbody>\n",
              "    <tr>\n",
              "      <th>count</th>\n",
              "      <td>25.000000</td>\n",
              "      <td>25.000000</td>\n",
              "    </tr>\n",
              "    <tr>\n",
              "      <th>mean</th>\n",
              "      <td>5.012000</td>\n",
              "      <td>51.480000</td>\n",
              "    </tr>\n",
              "    <tr>\n",
              "      <th>std</th>\n",
              "      <td>2.525094</td>\n",
              "      <td>25.286887</td>\n",
              "    </tr>\n",
              "    <tr>\n",
              "      <th>min</th>\n",
              "      <td>1.100000</td>\n",
              "      <td>17.000000</td>\n",
              "    </tr>\n",
              "    <tr>\n",
              "      <th>25%</th>\n",
              "      <td>2.700000</td>\n",
              "      <td>30.000000</td>\n",
              "    </tr>\n",
              "    <tr>\n",
              "      <th>50%</th>\n",
              "      <td>4.800000</td>\n",
              "      <td>47.000000</td>\n",
              "    </tr>\n",
              "    <tr>\n",
              "      <th>75%</th>\n",
              "      <td>7.400000</td>\n",
              "      <td>75.000000</td>\n",
              "    </tr>\n",
              "    <tr>\n",
              "      <th>max</th>\n",
              "      <td>9.200000</td>\n",
              "      <td>95.000000</td>\n",
              "    </tr>\n",
              "  </tbody>\n",
              "</table>\n",
              "</div>"
            ],
            "text/plain": [
              "           Hours     Scores\n",
              "count  25.000000  25.000000\n",
              "mean    5.012000  51.480000\n",
              "std     2.525094  25.286887\n",
              "min     1.100000  17.000000\n",
              "25%     2.700000  30.000000\n",
              "50%     4.800000  47.000000\n",
              "75%     7.400000  75.000000\n",
              "max     9.200000  95.000000"
            ]
          },
          "execution_count": 5,
          "metadata": {},
          "output_type": "execute_result"
        }
      ],
      "source": [
        "df.describe()"
      ]
    },
    {
      "cell_type": "code",
      "execution_count": null,
      "id": "d0a2ba20",
      "metadata": {
        "execution": {
          "iopub.execute_input": "2022-11-11T21:09:38.670637Z",
          "iopub.status.busy": "2022-11-11T21:09:38.670263Z",
          "iopub.status.idle": "2022-11-11T21:09:38.678824Z",
          "shell.execute_reply": "2022-11-11T21:09:38.677687Z"
        },
        "papermill": {
          "duration": 0.018746,
          "end_time": "2022-11-11T21:09:38.681025",
          "exception": false,
          "start_time": "2022-11-11T21:09:38.662279",
          "status": "completed"
        },
        "tags": [],
        "id": "d0a2ba20",
        "outputId": "e5a8a83d-bb8f-4d08-a176-6c78353baa35"
      },
      "outputs": [
        {
          "data": {
            "text/plain": [
              "['hours', 'score']"
            ]
          },
          "execution_count": 6,
          "metadata": {},
          "output_type": "execute_result"
        }
      ],
      "source": [
        "df = df.rename(columns={'Hours': 'hours', 'Scores': 'score'})\n",
        "list(df.columns)"
      ]
    },
    {
      "cell_type": "code",
      "execution_count": null,
      "id": "f4925988",
      "metadata": {
        "execution": {
          "iopub.execute_input": "2022-11-11T21:09:38.695688Z",
          "iopub.status.busy": "2022-11-11T21:09:38.695262Z",
          "iopub.status.idle": "2022-11-11T21:09:39.061604Z",
          "shell.execute_reply": "2022-11-11T21:09:39.060418Z"
        },
        "papermill": {
          "duration": 0.376633,
          "end_time": "2022-11-11T21:09:39.064077",
          "exception": false,
          "start_time": "2022-11-11T21:09:38.687444",
          "status": "completed"
        },
        "tags": [],
        "id": "f4925988",
        "outputId": "71aa2c9e-2b93-4cad-a504-02330f745487"
      },
      "outputs": [
        {
          "data": {
            "text/plain": [
              "<AxesSubplot:xlabel='hours', ylabel='score'>"
            ]
          },
          "execution_count": 7,
          "metadata": {},
          "output_type": "execute_result"
        },
        {
          "data": {
            "image/png": "[encoded data removed]",
            "text/plain": [
              "<Figure size 842.4x595.44 with 1 Axes>"
            ]
          },
          "metadata": {},
          "output_type": "display_data"
        }
      ],
      "source": [
        "sns.scatterplot(data=df, x=\"hours\", y=\"score\")"
      ]
    },
    {
      "cell_type": "code",
      "execution_count": null,
      "id": "6912bed7",
      "metadata": {
        "execution": {
          "iopub.execute_input": "2022-11-11T21:09:39.080526Z",
          "iopub.status.busy": "2022-11-11T21:09:39.080111Z",
          "iopub.status.idle": "2022-11-11T21:09:39.090531Z",
          "shell.execute_reply": "2022-11-11T21:09:39.089362Z"
        },
        "papermill": {
          "duration": 0.021389,
          "end_time": "2022-11-11T21:09:39.092962",
          "exception": false,
          "start_time": "2022-11-11T21:09:39.071573",
          "status": "completed"
        },
        "tags": [],
        "id": "6912bed7"
      },
      "outputs": [],
      "source": [
        "scaler = StandardScaler()\n",
        "X_norm = scaler.fit_transform(df.drop('score', axis=1))"
      ]
    },
    {
      "cell_type": "markdown",
      "id": "9e7dbfec",
      "metadata": {
        "papermill": {
          "duration": 0.006532,
          "end_time": "2022-11-11T21:09:39.106434",
          "exception": false,
          "start_time": "2022-11-11T21:09:39.099902",
          "status": "completed"
        },
        "tags": [],
        "id": "9e7dbfec"
      },
      "source": [
        "# 3. Feature Normalization\n",
        "First of all, we are going to normalize our features. Normalization helps the gradient descent to reach the optimal point earlier."
      ]
    },
    {
      "cell_type": "code",
      "execution_count": null,
      "id": "a4d2422d",
      "metadata": {
        "execution": {
          "iopub.execute_input": "2022-11-11T21:09:39.122863Z",
          "iopub.status.busy": "2022-11-11T21:09:39.122482Z",
          "iopub.status.idle": "2022-11-11T21:09:39.434598Z",
          "shell.execute_reply": "2022-11-11T21:09:39.433068Z"
        },
        "papermill": {
          "duration": 0.323428,
          "end_time": "2022-11-11T21:09:39.437732",
          "exception": false,
          "start_time": "2022-11-11T21:09:39.114304",
          "status": "completed"
        },
        "tags": [],
        "id": "a4d2422d",
        "outputId": "df053bef-bb89-49ad-d0e5-94e98096a405"
      },
      "outputs": [
        {
          "name": "stdout",
          "output_type": "stream",
          "text": [
            "range before normalization:  8.1\n"
          ]
        },
        {
          "data": {
            "text/plain": [
              "<AxesSubplot:xlabel='hours', ylabel='Count'>"
            ]
          },
          "execution_count": 9,
          "metadata": {},
          "output_type": "execute_result"
        },
        {
          "data": {
            "image/png": "[encoded data removed]",
            "text/plain": [
              "<Figure size 842.4x595.44 with 1 Axes>"
            ]
          },
          "metadata": {},
          "output_type": "display_data"
        }
      ],
      "source": [
        "sns.set(rc={'figure.figsize':(11.7,8.27)})\n",
        "print('range before normalization: ', np.ptp(df['hours']))\n",
        "sns.histplot(data = df['hours'])"
      ]
    },
    {
      "cell_type": "code",
      "execution_count": null,
      "id": "7a4fcf12",
      "metadata": {
        "execution": {
          "iopub.execute_input": "2022-11-11T21:09:39.456369Z",
          "iopub.status.busy": "2022-11-11T21:09:39.455812Z",
          "iopub.status.idle": "2022-11-11T21:09:39.777084Z",
          "shell.execute_reply": "2022-11-11T21:09:39.775757Z"
        },
        "papermill": {
          "duration": 0.333031,
          "end_time": "2022-11-11T21:09:39.779909",
          "exception": false,
          "start_time": "2022-11-11T21:09:39.446878",
          "status": "completed"
        },
        "tags": [],
        "id": "7a4fcf12",
        "outputId": "37b1431d-8845-4408-ff86-d1294d5c076c"
      },
      "outputs": [
        {
          "name": "stdout",
          "output_type": "stream",
          "text": [
            "range after normalization:  3.27394849187266\n"
          ]
        },
        {
          "data": {
            "image/png": "[encoded data removed]",
            "text/plain": [
              "<Figure size 842.4x595.44 with 1 Axes>"
            ]
          },
          "metadata": {},
          "output_type": "display_data"
        }
      ],
      "source": [
        "print('range after normalization: ', np.ptp(X_norm))\n",
        "fig, ax = plt.subplots()\n",
        "sns.histplot(data=X_norm)\n",
        "plt.legend([],[], frameon=False)\n",
        "plt.show()"
      ]
    },
    {
      "cell_type": "markdown",
      "id": "c90b1045",
      "metadata": {
        "papermill": {
          "duration": 0.008675,
          "end_time": "2022-11-11T21:09:39.796577",
          "exception": false,
          "start_time": "2022-11-11T21:09:39.787902",
          "status": "completed"
        },
        "tags": [],
        "id": "c90b1045"
      },
      "source": [
        "# 4. Modeling"
      ]
    },
    {
      "cell_type": "code",
      "execution_count": null,
      "id": "b2e98130",
      "metadata": {
        "execution": {
          "iopub.execute_input": "2022-11-11T21:09:39.817469Z",
          "iopub.status.busy": "2022-11-11T21:09:39.816735Z",
          "iopub.status.idle": "2022-11-11T21:09:39.821587Z",
          "shell.execute_reply": "2022-11-11T21:09:39.820856Z"
        },
        "papermill": {
          "duration": 0.017636,
          "end_time": "2022-11-11T21:09:39.823691",
          "exception": false,
          "start_time": "2022-11-11T21:09:39.806055",
          "status": "completed"
        },
        "tags": [],
        "id": "b2e98130"
      },
      "outputs": [],
      "source": [
        "y_train = df['score']"
      ]
    },
    {
      "cell_type": "code",
      "execution_count": null,
      "id": "6d5ed590",
      "metadata": {
        "execution": {
          "iopub.execute_input": "2022-11-11T21:09:39.846835Z",
          "iopub.status.busy": "2022-11-11T21:09:39.845914Z",
          "iopub.status.idle": "2022-11-11T21:09:39.855361Z",
          "shell.execute_reply": "2022-11-11T21:09:39.854143Z"
        },
        "papermill": {
          "duration": 0.021546,
          "end_time": "2022-11-11T21:09:39.857805",
          "exception": false,
          "start_time": "2022-11-11T21:09:39.836259",
          "status": "completed"
        },
        "tags": [],
        "id": "6d5ed590",
        "outputId": "496fa2c9-4257-4006-97df-c730e9531e37"
      },
      "outputs": [
        {
          "name": "stdout",
          "output_type": "stream",
          "text": [
            "number of iterations completed: 138, number of weight updates: 3451.0\n"
          ]
        }
      ],
      "source": [
        "sgdr = SGDRegressor()\n",
        "sgdr.fit(X_norm, y_train)\n",
        "print(f\"number of iterations completed: {sgdr.n_iter_}, number of weight updates: {sgdr.t_}\")"
      ]
    },
    {
      "cell_type": "code",
      "execution_count": null,
      "id": "53429d65",
      "metadata": {
        "execution": {
          "iopub.execute_input": "2022-11-11T21:09:39.876111Z",
          "iopub.status.busy": "2022-11-11T21:09:39.874644Z",
          "iopub.status.idle": "2022-11-11T21:09:39.883191Z",
          "shell.execute_reply": "2022-11-11T21:09:39.881308Z"
        },
        "papermill": {
          "duration": 0.021431,
          "end_time": "2022-11-11T21:09:39.886949",
          "exception": false,
          "start_time": "2022-11-11T21:09:39.865518",
          "status": "completed"
        },
        "tags": [],
        "id": "53429d65",
        "outputId": "ad327c3f-df97-46fb-e74c-5e755f8a5027"
      },
      "outputs": [
        {
          "name": "stdout",
          "output_type": "stream",
          "text": [
            "model parameters:   w: [24.124], b:[51.354]\n"
          ]
        }
      ],
      "source": [
        "b_norm = sgdr.intercept_\n",
        "w_norm = sgdr.coef_\n",
        "print(f\"model parameters:   w: {w_norm}, b:{b_norm}\")"
      ]
    },
    {
      "cell_type": "code",
      "execution_count": null,
      "id": "09cb8e6c",
      "metadata": {
        "execution": {
          "iopub.execute_input": "2022-11-11T21:09:39.911808Z",
          "iopub.status.busy": "2022-11-11T21:09:39.911109Z",
          "iopub.status.idle": "2022-11-11T21:09:39.916412Z",
          "shell.execute_reply": "2022-11-11T21:09:39.915513Z"
        },
        "papermill": {
          "duration": 0.019532,
          "end_time": "2022-11-11T21:09:39.918559",
          "exception": false,
          "start_time": "2022-11-11T21:09:39.899027",
          "status": "completed"
        },
        "tags": [],
        "id": "09cb8e6c"
      },
      "outputs": [],
      "source": [
        "y_pred_sgd = sgdr.predict(X_norm)"
      ]
    },
    {
      "cell_type": "code",
      "execution_count": null,
      "id": "a69970d1",
      "metadata": {
        "execution": {
          "iopub.execute_input": "2022-11-11T21:09:39.936373Z",
          "iopub.status.busy": "2022-11-11T21:09:39.935685Z",
          "iopub.status.idle": "2022-11-11T21:09:39.948877Z",
          "shell.execute_reply": "2022-11-11T21:09:39.947635Z"
        },
        "papermill": {
          "duration": 0.024595,
          "end_time": "2022-11-11T21:09:39.951102",
          "exception": false,
          "start_time": "2022-11-11T21:09:39.926507",
          "status": "completed"
        },
        "tags": [],
        "id": "a69970d1",
        "outputId": "89a857ac-8703-455c-f600-d44f27a5b287"
      },
      "outputs": [
        {
          "data": {
            "text/html": [
              "<div>\n",
              "<style scoped>\n",
              "    .dataframe tbody tr th:only-of-type {\n",
              "        vertical-align: middle;\n",
              "    }\n",
              "\n",
              "    .dataframe tbody tr th {\n",
              "        vertical-align: top;\n",
              "    }\n",
              "\n",
              "    .dataframe thead th {\n",
              "        text-align: right;\n",
              "    }\n",
              "</style>\n",
              "<table border=\"1\" class=\"dataframe\">\n",
              "  <thead>\n",
              "    <tr style=\"text-align: right;\">\n",
              "      <th></th>\n",
              "      <th>score</th>\n",
              "      <th>hours</th>\n",
              "    </tr>\n",
              "  </thead>\n",
              "  <tbody>\n",
              "    <tr>\n",
              "      <th>0</th>\n",
              "      <td>26.860360</td>\n",
              "      <td>-1.015328</td>\n",
              "    </tr>\n",
              "    <tr>\n",
              "      <th>1</th>\n",
              "      <td>52.211765</td>\n",
              "      <td>0.035569</td>\n",
              "    </tr>\n",
              "    <tr>\n",
              "      <th>2</th>\n",
              "      <td>33.685738</td>\n",
              "      <td>-0.732394</td>\n",
              "    </tr>\n",
              "    <tr>\n",
              "      <th>3</th>\n",
              "      <td>85.363602</td>\n",
              "      <td>1.409819</td>\n",
              "    </tr>\n",
              "    <tr>\n",
              "      <th>4</th>\n",
              "      <td>36.610900</td>\n",
              "      <td>-0.611137</td>\n",
              "    </tr>\n",
              "  </tbody>\n",
              "</table>\n",
              "</div>"
            ],
            "text/plain": [
              "       score     hours\n",
              "0  26.860360 -1.015328\n",
              "1  52.211765  0.035569\n",
              "2  33.685738 -0.732394\n",
              "3  85.363602  1.409819\n",
              "4  36.610900 -0.611137"
            ]
          },
          "execution_count": 15,
          "metadata": {},
          "output_type": "execute_result"
        }
      ],
      "source": [
        "temp_df = pd.DataFrame(X_norm, y_pred_sgd).reset_index().rename(columns = {0: 'hours', 'index': 'score'})\n",
        "temp_df.head()"
      ]
    },
    {
      "cell_type": "markdown",
      "id": "35fce6c4",
      "metadata": {
        "papermill": {
          "duration": 0.007455,
          "end_time": "2022-11-11T21:09:39.966352",
          "exception": false,
          "start_time": "2022-11-11T21:09:39.958897",
          "status": "completed"
        },
        "tags": [],
        "id": "35fce6c4"
      },
      "source": [
        "Aftem defining the model and predicting the values for our normalized feature(s) we are going to plot them to see how well the model performed!"
      ]
    },
    {
      "cell_type": "code",
      "execution_count": null,
      "id": "fbdf5ca4",
      "metadata": {
        "execution": {
          "iopub.execute_input": "2022-11-11T21:09:39.983719Z",
          "iopub.status.busy": "2022-11-11T21:09:39.983305Z",
          "iopub.status.idle": "2022-11-11T21:09:40.316271Z",
          "shell.execute_reply": "2022-11-11T21:09:40.315109Z"
        },
        "papermill": {
          "duration": 0.344866,
          "end_time": "2022-11-11T21:09:40.318926",
          "exception": false,
          "start_time": "2022-11-11T21:09:39.974060",
          "status": "completed"
        },
        "tags": [],
        "id": "fbdf5ca4",
        "outputId": "44df4e4e-b826-41fd-aa5b-ccb505aaf186"
      },
      "outputs": [
        {
          "data": {
            "text/plain": [
              "[<matplotlib.lines.Line2D at 0x7fb2f4af5d50>]"
            ]
          },
          "execution_count": 16,
          "metadata": {},
          "output_type": "execute_result"
        },
        {
          "data": {
            "image/png": "[encoded data removed]",
            "text/plain": [
              "<Figure size 842.4x595.44 with 1 Axes>"
            ]
          },
          "metadata": {},
          "output_type": "display_data"
        }
      ],
      "source": [
        "x = np.linspace(temp_df['hours'].min(),temp_df['hours'].max(),2)\n",
        "y = w_norm*x+b_norm\n",
        "sns.scatterplot(x=temp_df['hours'], y=df['score'])\n",
        "plt.plot(x, y, '-r')"
      ]
    },
    {
      "cell_type": "markdown",
      "id": "144ab348",
      "metadata": {
        "papermill": {
          "duration": 0.008525,
          "end_time": "2022-11-11T21:09:40.336038",
          "exception": false,
          "start_time": "2022-11-11T21:09:40.327513",
          "status": "completed"
        },
        "tags": [],
        "id": "144ab348"
      },
      "source": [
        "# 5. Conclusion and future projects"
      ]
    },
    {
      "cell_type": "markdown",
      "id": "36cf04aa",
      "metadata": {
        "papermill": {
          "duration": 0.008184,
          "end_time": "2022-11-11T21:09:40.352695",
          "exception": false,
          "start_time": "2022-11-11T21:09:40.344511",
          "status": "completed"
        },
        "tags": [],
        "id": "36cf04aa"
      },
      "source": [
        "Linear Regression is the bread and butter of all data modeling! In this notebook we had a very simple linear regression model predict student scores based on the hours of studying they did. There is also the issue of the maximum possible score. If the maximum score is 100 then our model is not going to perform very well for students who have studied 15 hours for example. Because of that using another feature like the square root of the number of hours could be useful.  \n",
        "In future projects we can use training and testing sets of data to compare our different models, use other kinds of models and also if we have more than one feature we can try and experiment with them to see how they impact our accuracy. If we had multiple features we could have also used polynomial regression to get our results.\n",
        "Good luck!"
      ]
    },
    {
      "cell_type": "code",
      "execution_count": null,
      "id": "4fb4b0b8",
      "metadata": {
        "execution": {
          "iopub.execute_input": "2022-11-11T21:09:40.372104Z",
          "iopub.status.busy": "2022-11-11T21:09:40.370847Z",
          "iopub.status.idle": "2022-11-11T21:09:40.379459Z",
          "shell.execute_reply": "2022-11-11T21:09:40.378157Z"
        },
        "papermill": {
          "duration": 0.021323,
          "end_time": "2022-11-11T21:09:40.382357",
          "exception": false,
          "start_time": "2022-11-11T21:09:40.361034",
          "status": "completed"
        },
        "tags": [],
        "id": "4fb4b0b8",
        "outputId": "cad9f01d-f3c2-48b9-e38e-ebc4f3ad10ef"
      },
      "outputs": [
        {
          "name": "stdout",
          "output_type": "stream",
          "text": [
            "2.0161055651186213 99.98941253789978\n"
          ]
        }
      ],
      "source": [
        "def normalize_hours(x):\n",
        "    return ([[x]] - np.mean(df['hours'])) / np.std(df['hours'])\n",
        "\n",
        "x = 10\n",
        "normalized_x = normalize_hours(x)\n",
        "print(float(normalized_x), float(sgdr.predict(normalized_x)))"
      ]
    }
  ],
  "metadata": {
    "kernelspec": {
      "display_name": "Python 3",
      "language": "python",
      "name": "python3"
    },
    "language_info": {
      "codemirror_mode": {
        "name": "ipython",
        "version": 3
      },
      "file_extension": ".py",
      "mimetype": "text/x-python",
      "name": "python",
      "nbconvert_exporter": "python",
      "pygments_lexer": "ipython3",
      "version": "3.7.12"
    },
    "papermill": {
      "default_parameters": {},
      "duration": 12.061045,
      "end_time": "2022-11-11T21:09:41.139280",
      "environment_variables": {},
      "exception": null,
      "input_path": "__notebook__.ipynb",
      "output_path": "__notebook__.ipynb",
      "parameters": {},
      "start_time": "2022-11-11T21:09:29.078235",
      "version": "2.3.4"
    },
    "colab": {
      "provenance": []
    }
  },
  "nbformat": 4,
  "nbformat_minor": 5
}